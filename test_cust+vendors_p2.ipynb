{
 "cells": [
  {
   "cell_type": "markdown",
   "metadata": {},
   "source": [
    "## Import libraries"
   ]
  },
  {
   "cell_type": "code",
   "execution_count": 1,
   "metadata": {},
   "outputs": [],
   "source": [
    "import pandas as pd\n",
    "import numpy as np"
   ]
  },
  {
   "cell_type": "markdown",
   "metadata": {},
   "source": [
    "## Set filenames"
   ]
  },
  {
   "cell_type": "code",
   "execution_count": 2,
   "metadata": {},
   "outputs": [],
   "source": [
    "customers=pd.read_csv(\"Data/test_customers_p1.csv\")\n",
    "vendors=pd.read_csv(\"Data/vendors_p1.csv\")"
   ]
  },
  {
   "cell_type": "markdown",
   "metadata": {},
   "source": [
    "## For every customer details, loading 100 vendor details"
   ]
  },
  {
   "cell_type": "code",
   "execution_count": 3,
   "metadata": {},
   "outputs": [],
   "source": [
    "## Reduce memory usage\n",
    "def reduce_mem_usage(df, verbose=True):\n",
    "    numerics = ['int16', 'int32', 'int64', 'float16', 'float32', 'float64']\n",
    "    start_mem = df.memory_usage().sum() / 1024**2    \n",
    "    for col in df.columns:\n",
    "        col_type = df[col].dtypes\n",
    "        if col_type in numerics:\n",
    "            c_min = df[col].min()\n",
    "            c_max = df[col].max()\n",
    "            if str(col_type)[:3] == 'int':\n",
    "                if c_min > np.iinfo(np.int8).min and c_max < np.iinfo(np.int8).max:\n",
    "                    df[col] = df[col].astype(np.int8)\n",
    "                elif c_min > np.iinfo(np.int16).min and c_max < np.iinfo(np.int16).max:\n",
    "                    df[col] = df[col].astype(np.int16)\n",
    "                elif c_min > np.iinfo(np.int32).min and c_max < np.iinfo(np.int32).max:\n",
    "                    df[col] = df[col].astype(np.int32)\n",
    "                elif c_min > np.iinfo(np.int64).min and c_max < np.iinfo(np.int64).max:\n",
    "                    df[col] = df[col].astype(np.int64)  \n",
    "            else:\n",
    "                if c_min > np.finfo(np.float16).min and c_max < np.finfo(np.float16).max:\n",
    "                    df[col] = df[col].astype(np.float16)\n",
    "                elif c_min > np.finfo(np.float32).min and c_max < np.finfo(np.float32).max:\n",
    "                    df[col] = df[col].astype(np.float32)\n",
    "                else:\n",
    "                    df[col] = df[col].astype(np.float64)    \n",
    "    end_mem = df.memory_usage().sum() / 1024**2\n",
    "    if verbose: print('Mem. usage decreased to {:5.2f} Mb ({:.1f}% reduction)'.format(end_mem, 100 * (start_mem - end_mem) / start_mem))\n",
    "    return df"
   ]
  },
  {
   "cell_type": "code",
   "execution_count": 4,
   "metadata": {},
   "outputs": [
    {
     "name": "stdout",
     "output_type": "stream",
     "text": [
      "Mem. usage decreased to  0.43 Mb (78.9% reduction)\n",
      "Mem. usage decreased to  0.01 Mb (85.0% reduction)\n"
     ]
    }
   ],
   "source": [
    "customers=reduce_mem_usage(customers)\n",
    "vendors=reduce_mem_usage(vendors)"
   ]
  },
  {
   "cell_type": "code",
   "execution_count": 5,
   "metadata": {},
   "outputs": [],
   "source": [
    "cust_ven = customers.assign(key=1).merge(vendors.assign(key=1), on='key').drop('key',axis=1)"
   ]
  },
  {
   "cell_type": "code",
   "execution_count": 6,
   "metadata": {},
   "outputs": [
    {
     "data": {
      "text/plain": [
       "(1672000, 103)"
      ]
     },
     "execution_count": 6,
     "metadata": {},
     "output_type": "execute_result"
    }
   ],
   "source": [
    "cust_ven.shape"
   ]
  },
  {
   "cell_type": "code",
   "execution_count": 7,
   "metadata": {},
   "outputs": [],
   "source": [
    "cust_ven['test_CID X LOC_NUM X VENDOR'] = cust_ven['customer_id'] + \" X \" + cust_ven['cust_location_number'].astype(str) + \" X \" + cust_ven['vendor_id'].astype(str)"
   ]
  },
  {
   "cell_type": "code",
   "execution_count": 8,
   "metadata": {},
   "outputs": [],
   "source": [
    "cust_ven.drop(['customer_id','cust_location_number','vendor_id','dob','cust_status','cust_verified','OpenHour'],\n",
    "                    axis=1, inplace=True)"
   ]
  },
  {
   "cell_type": "code",
   "execution_count": 9,
   "metadata": {},
   "outputs": [
    {
     "data": {
      "text/plain": [
       "0     000IPH5 X 0 X 4\n",
       "1    000IPH5 X 0 X 13\n",
       "2    000IPH5 X 0 X 20\n",
       "3    000IPH5 X 0 X 23\n",
       "4    000IPH5 X 0 X 28\n",
       "Name: test_CID X LOC_NUM X VENDOR, dtype: object"
      ]
     },
     "execution_count": 9,
     "metadata": {},
     "output_type": "execute_result"
    }
   ],
   "source": [
    "cust_ven['test_CID X LOC_NUM X VENDOR'].head()"
   ]
  },
  {
   "cell_type": "code",
   "execution_count": 10,
   "metadata": {},
   "outputs": [
    {
     "data": {
      "text/plain": [
       "array(['Cust_created_days', 'cust_location_type_Home',\n",
       "       'cust_location_type_Other', 'cust_location_type_Work',\n",
       "       'gender_female', 'gender_male', 'cust_lan_long_0',\n",
       "       'cust_lan_long_1', 'cust_lan_long_2', 'cust_lan_long_3',\n",
       "       'cust_lan_long_4', 'delivery_charge', 'serving_distance',\n",
       "       'is_open', 'prepration_time', 'discount_percentage', 'ven_status',\n",
       "       'ven_verified', 'vendor_rating', 'Ven_created_days', 'american',\n",
       "       'arabic', 'asian', 'bagels', 'biryani', 'breakfast', 'burgers',\n",
       "       'cafe', 'cakes', 'chinese', 'churros', 'coffee', 'combos',\n",
       "       'crepes', 'desserts', 'dimsum', 'donuts', 'family_meal',\n",
       "       'fatayers', 'free_delivery', 'fresh_juices', 'fries',\n",
       "       'frozen_yoghurt', 'grills', 'healthy_food', 'hot_chocolate',\n",
       "       'hot_dogs', 'ice_creams', 'indian', 'italian', 'japanese', 'karak',\n",
       "       'kebabs', 'kids_meal', 'kushari', 'lebanese', 'manakeesh',\n",
       "       'mandazi', 'mexican', 'milkshakes', 'mishkak', 'mojitos',\n",
       "       'mojitos_', 'nan', 'omani', 'organic', 'pancakes', 'pasta',\n",
       "       'pastry', 'pizza', 'rice', 'rolls', 'salads', 'sandwiches',\n",
       "       'seafood', 'shawarma', 'shuwa', 'smoothies', 'soups',\n",
       "       'spanish_latte', 'steaks', 'sushi', 'sweets', 'thai', 'thali',\n",
       "       'vegetarian', 'waffles', 'TotOpenDuration',\n",
       "       'vendor_category_en_Restaurants',\n",
       "       'vendor_category_en_Sweets & Bakes', 'device_type_1',\n",
       "       'device_type_3', 'timegroup_early(5-10.59am)',\n",
       "       'timegroup_evening(17-22.59pm)', 'timegroup_latenight(23-4.59am)',\n",
       "       'timegroup_normal(11-16.59pm)', 'test_CID X LOC_NUM X VENDOR'],\n",
       "      dtype=object)"
      ]
     },
     "execution_count": 10,
     "metadata": {},
     "output_type": "execute_result"
    }
   ],
   "source": [
    "cust_ven.columns.values"
   ]
  },
  {
   "cell_type": "code",
   "execution_count": 11,
   "metadata": {},
   "outputs": [],
   "source": [
    "del cust_ven['Cust_created_days']"
   ]
  },
  {
   "cell_type": "markdown",
   "metadata": {},
   "source": [
    "## Sample submission"
   ]
  },
  {
   "cell_type": "code",
   "execution_count": 12,
   "metadata": {},
   "outputs": [],
   "source": [
    "SS=pd.read_csv(\"Data/SampleSubmission.csv\")"
   ]
  },
  {
   "cell_type": "code",
   "execution_count": 13,
   "metadata": {},
   "outputs": [
    {
     "data": {
      "text/html": [
       "<div>\n",
       "<style scoped>\n",
       "    .dataframe tbody tr th:only-of-type {\n",
       "        vertical-align: middle;\n",
       "    }\n",
       "\n",
       "    .dataframe tbody tr th {\n",
       "        vertical-align: top;\n",
       "    }\n",
       "\n",
       "    .dataframe thead th {\n",
       "        text-align: right;\n",
       "    }\n",
       "</style>\n",
       "<table border=\"1\" class=\"dataframe\">\n",
       "  <thead>\n",
       "    <tr style=\"text-align: right;\">\n",
       "      <th></th>\n",
       "      <th>CID X LOC_NUM X VENDOR</th>\n",
       "      <th>target</th>\n",
       "    </tr>\n",
       "  </thead>\n",
       "  <tbody>\n",
       "    <tr>\n",
       "      <th>0</th>\n",
       "      <td>Z59FTQD X 0 X 243</td>\n",
       "      <td>0</td>\n",
       "    </tr>\n",
       "    <tr>\n",
       "      <th>1</th>\n",
       "      <td>0JP29SK X 0 X 243</td>\n",
       "      <td>0</td>\n",
       "    </tr>\n",
       "    <tr>\n",
       "      <th>2</th>\n",
       "      <td>0JP29SK X 1 X 243</td>\n",
       "      <td>0</td>\n",
       "    </tr>\n",
       "    <tr>\n",
       "      <th>3</th>\n",
       "      <td>0JP29SK X 2 X 243</td>\n",
       "      <td>0</td>\n",
       "    </tr>\n",
       "    <tr>\n",
       "      <th>4</th>\n",
       "      <td>0JP29SK X 3 X 243</td>\n",
       "      <td>0</td>\n",
       "    </tr>\n",
       "    <tr>\n",
       "      <th>...</th>\n",
       "      <td>...</td>\n",
       "      <td>...</td>\n",
       "    </tr>\n",
       "    <tr>\n",
       "      <th>1048570</th>\n",
       "      <td>BB4J9W3 X 2 X 44</td>\n",
       "      <td>0</td>\n",
       "    </tr>\n",
       "    <tr>\n",
       "      <th>1048571</th>\n",
       "      <td>VYQ6H7K X 0 X 44</td>\n",
       "      <td>0</td>\n",
       "    </tr>\n",
       "    <tr>\n",
       "      <th>1048572</th>\n",
       "      <td>VYQ6H7K X 1 X 44</td>\n",
       "      <td>0</td>\n",
       "    </tr>\n",
       "    <tr>\n",
       "      <th>1048573</th>\n",
       "      <td>MB88K6D X 0 X 44</td>\n",
       "      <td>0</td>\n",
       "    </tr>\n",
       "    <tr>\n",
       "      <th>1048574</th>\n",
       "      <td>MB88K6D X 1 X 44</td>\n",
       "      <td>0</td>\n",
       "    </tr>\n",
       "  </tbody>\n",
       "</table>\n",
       "<p>1048575 rows × 2 columns</p>\n",
       "</div>"
      ],
      "text/plain": [
       "        CID X LOC_NUM X VENDOR  target\n",
       "0            Z59FTQD X 0 X 243       0\n",
       "1            0JP29SK X 0 X 243       0\n",
       "2            0JP29SK X 1 X 243       0\n",
       "3            0JP29SK X 2 X 243       0\n",
       "4            0JP29SK X 3 X 243       0\n",
       "...                        ...     ...\n",
       "1048570       BB4J9W3 X 2 X 44       0\n",
       "1048571       VYQ6H7K X 0 X 44       0\n",
       "1048572       VYQ6H7K X 1 X 44       0\n",
       "1048573       MB88K6D X 0 X 44       0\n",
       "1048574       MB88K6D X 1 X 44       0\n",
       "\n",
       "[1048575 rows x 2 columns]"
      ]
     },
     "execution_count": 13,
     "metadata": {},
     "output_type": "execute_result"
    }
   ],
   "source": [
    "SS"
   ]
  },
  {
   "cell_type": "code",
   "execution_count": 14,
   "metadata": {},
   "outputs": [],
   "source": [
    "#convert to csv file\n",
    "cust_ven.to_csv(\"cust_ven_test_p2.csv\",index=False)"
   ]
  },
  {
   "cell_type": "code",
   "execution_count": null,
   "metadata": {},
   "outputs": [],
   "source": []
  }
 ],
 "metadata": {
  "kernelspec": {
   "display_name": "Python 3",
   "language": "python",
   "name": "python3"
  },
  "language_info": {
   "codemirror_mode": {
    "name": "ipython",
    "version": 3
   },
   "file_extension": ".py",
   "mimetype": "text/x-python",
   "name": "python",
   "nbconvert_exporter": "python",
   "pygments_lexer": "ipython3",
   "version": "3.7.6"
  }
 },
 "nbformat": 4,
 "nbformat_minor": 4
}
