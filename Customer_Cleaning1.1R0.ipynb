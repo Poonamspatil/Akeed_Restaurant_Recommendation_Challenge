{
 "cells": [
  {
   "cell_type": "markdown",
   "metadata": {},
   "source": [
    "## Import libraries"
   ]
  },
  {
   "cell_type": "code",
   "execution_count": 1,
   "metadata": {},
   "outputs": [],
   "source": [
    "import pandas as pd\n",
    "import numpy as np\n",
    "from sklearn.cluster import KMeans\n",
    "import matplotlib.pyplot as plt"
   ]
  },
  {
   "cell_type": "markdown",
   "metadata": {},
   "source": [
    "## Set filenames"
   ]
  },
  {
   "cell_type": "code",
   "execution_count": 2,
   "metadata": {},
   "outputs": [],
   "source": [
    "train_locations=pd.read_csv(\"Data/train_locations.csv\")\n",
    "train_customers=pd.read_csv(\"Data/train_customers.csv\")"
   ]
  },
  {
   "cell_type": "markdown",
   "metadata": {},
   "source": [
    "## Remove customer duplicate info"
   ]
  },
  {
   "cell_type": "code",
   "execution_count": 3,
   "metadata": {},
   "outputs": [
    {
     "data": {
      "text/html": [
       "<div>\n",
       "<style scoped>\n",
       "    .dataframe tbody tr th:only-of-type {\n",
       "        vertical-align: middle;\n",
       "    }\n",
       "\n",
       "    .dataframe tbody tr th {\n",
       "        vertical-align: top;\n",
       "    }\n",
       "\n",
       "    .dataframe thead th {\n",
       "        text-align: right;\n",
       "    }\n",
       "</style>\n",
       "<table border=\"1\" class=\"dataframe\">\n",
       "  <thead>\n",
       "    <tr style=\"text-align: right;\">\n",
       "      <th></th>\n",
       "      <th>akeed_customer_id</th>\n",
       "      <th>gender</th>\n",
       "      <th>dob</th>\n",
       "      <th>status</th>\n",
       "      <th>verified</th>\n",
       "      <th>language</th>\n",
       "      <th>created_at</th>\n",
       "      <th>updated_at</th>\n",
       "    </tr>\n",
       "  </thead>\n",
       "  <tbody>\n",
       "    <tr>\n",
       "      <th>0</th>\n",
       "      <td>TCHWPBT</td>\n",
       "      <td>Male</td>\n",
       "      <td>NaN</td>\n",
       "      <td>1</td>\n",
       "      <td>1</td>\n",
       "      <td>EN</td>\n",
       "      <td>2018-02-07 19:16:23</td>\n",
       "      <td>2018-02-07 19:16:23</td>\n",
       "    </tr>\n",
       "    <tr>\n",
       "      <th>1</th>\n",
       "      <td>ZGFSYCZ</td>\n",
       "      <td>Male</td>\n",
       "      <td>NaN</td>\n",
       "      <td>1</td>\n",
       "      <td>1</td>\n",
       "      <td>EN</td>\n",
       "      <td>2018-02-09 12:04:42</td>\n",
       "      <td>2018-02-09 12:04:41</td>\n",
       "    </tr>\n",
       "    <tr>\n",
       "      <th>2</th>\n",
       "      <td>S2ALZFL</td>\n",
       "      <td>Male</td>\n",
       "      <td>NaN</td>\n",
       "      <td>0</td>\n",
       "      <td>1</td>\n",
       "      <td>EN</td>\n",
       "      <td>2018-03-14 18:31:43</td>\n",
       "      <td>2018-03-14 18:31:42</td>\n",
       "    </tr>\n",
       "    <tr>\n",
       "      <th>3</th>\n",
       "      <td>952DBJQ</td>\n",
       "      <td>Male</td>\n",
       "      <td>NaN</td>\n",
       "      <td>1</td>\n",
       "      <td>1</td>\n",
       "      <td>EN</td>\n",
       "      <td>2018-03-15 19:47:07</td>\n",
       "      <td>2018-03-15 19:47:07</td>\n",
       "    </tr>\n",
       "    <tr>\n",
       "      <th>4</th>\n",
       "      <td>1IX6FXS</td>\n",
       "      <td>Male</td>\n",
       "      <td>NaN</td>\n",
       "      <td>1</td>\n",
       "      <td>1</td>\n",
       "      <td>EN</td>\n",
       "      <td>2018-03-15 19:57:01</td>\n",
       "      <td>2018-03-15 19:57:01</td>\n",
       "    </tr>\n",
       "  </tbody>\n",
       "</table>\n",
       "</div>"
      ],
      "text/plain": [
       "  akeed_customer_id gender  dob  status  verified language  \\\n",
       "0           TCHWPBT   Male  NaN       1         1       EN   \n",
       "1           ZGFSYCZ   Male  NaN       1         1       EN   \n",
       "2           S2ALZFL   Male  NaN       0         1       EN   \n",
       "3           952DBJQ   Male  NaN       1         1       EN   \n",
       "4           1IX6FXS   Male  NaN       1         1       EN   \n",
       "\n",
       "            created_at           updated_at  \n",
       "0  2018-02-07 19:16:23  2018-02-07 19:16:23  \n",
       "1  2018-02-09 12:04:42  2018-02-09 12:04:41  \n",
       "2  2018-03-14 18:31:43  2018-03-14 18:31:42  \n",
       "3  2018-03-15 19:47:07  2018-03-15 19:47:07  \n",
       "4  2018-03-15 19:57:01  2018-03-15 19:57:01  "
      ]
     },
     "execution_count": 3,
     "metadata": {},
     "output_type": "execute_result"
    }
   ],
   "source": [
    "train_customers.head() #Customer id details"
   ]
  },
  {
   "cell_type": "code",
   "execution_count": 4,
   "metadata": {},
   "outputs": [
    {
     "data": {
      "text/plain": [
       "34674"
      ]
     },
     "execution_count": 4,
     "metadata": {},
     "output_type": "execute_result"
    }
   ],
   "source": [
    "len(train_customers)"
   ]
  },
  {
   "cell_type": "code",
   "execution_count": 5,
   "metadata": {},
   "outputs": [
    {
     "data": {
      "text/plain": [
       "0FOCFVI    17\n",
       "H0GVNAK    16\n",
       "XFQVCSZ     9\n",
       "QT5BMDP     7\n",
       "U0SUJYS     7\n",
       "           ..\n",
       "QP7QQF6     1\n",
       "I3L8LWN     1\n",
       "UZ79GV9     1\n",
       "0W261FE     1\n",
       "4C9ROFP     1\n",
       "Name: akeed_customer_id, Length: 34523, dtype: int64"
      ]
     },
     "execution_count": 5,
     "metadata": {},
     "output_type": "execute_result"
    }
   ],
   "source": [
    "train_customers['akeed_customer_id'].value_counts() #There are duplicate values, let's"
   ]
  },
  {
   "cell_type": "code",
   "execution_count": 6,
   "metadata": {},
   "outputs": [],
   "source": [
    "# Sort customer file on customer ID and Verified columns in ascending order. Remove duplicates and keep last record that is verified.\n",
    "train_customers =train_customers.sort_values(by=['akeed_customer_id', 'verified'])\n",
    "train_customers.drop_duplicates(subset='akeed_customer_id',keep='last',inplace=True)"
   ]
  },
  {
   "cell_type": "code",
   "execution_count": 7,
   "metadata": {},
   "outputs": [
    {
     "name": "stdout",
     "output_type": "stream",
     "text": [
      "34523\n",
      "34523\n"
     ]
    }
   ],
   "source": [
    "print(train_customers['akeed_customer_id'].nunique())\n",
    "print(len(train_customers))"
   ]
  },
  {
   "cell_type": "markdown",
   "metadata": {},
   "source": [
    "## Customer locations  info"
   ]
  },
  {
   "cell_type": "code",
   "execution_count": 8,
   "metadata": {},
   "outputs": [
    {
     "data": {
      "text/html": [
       "<div>\n",
       "<style scoped>\n",
       "    .dataframe tbody tr th:only-of-type {\n",
       "        vertical-align: middle;\n",
       "    }\n",
       "\n",
       "    .dataframe tbody tr th {\n",
       "        vertical-align: top;\n",
       "    }\n",
       "\n",
       "    .dataframe thead th {\n",
       "        text-align: right;\n",
       "    }\n",
       "</style>\n",
       "<table border=\"1\" class=\"dataframe\">\n",
       "  <thead>\n",
       "    <tr style=\"text-align: right;\">\n",
       "      <th></th>\n",
       "      <th>customer_id</th>\n",
       "      <th>location_number</th>\n",
       "      <th>location_type</th>\n",
       "      <th>latitude</th>\n",
       "      <th>longitude</th>\n",
       "    </tr>\n",
       "  </thead>\n",
       "  <tbody>\n",
       "    <tr>\n",
       "      <th>0</th>\n",
       "      <td>02SFNJH</td>\n",
       "      <td>0</td>\n",
       "      <td>NaN</td>\n",
       "      <td>1.682392</td>\n",
       "      <td>-78.789737</td>\n",
       "    </tr>\n",
       "    <tr>\n",
       "      <th>1</th>\n",
       "      <td>02SFNJH</td>\n",
       "      <td>1</td>\n",
       "      <td>NaN</td>\n",
       "      <td>1.679137</td>\n",
       "      <td>0.766823</td>\n",
       "    </tr>\n",
       "    <tr>\n",
       "      <th>2</th>\n",
       "      <td>02SFNJH</td>\n",
       "      <td>2</td>\n",
       "      <td>NaN</td>\n",
       "      <td>-0.498648</td>\n",
       "      <td>0.661241</td>\n",
       "    </tr>\n",
       "    <tr>\n",
       "      <th>3</th>\n",
       "      <td>RU43CXC</td>\n",
       "      <td>0</td>\n",
       "      <td>Home</td>\n",
       "      <td>0.100853</td>\n",
       "      <td>0.438165</td>\n",
       "    </tr>\n",
       "    <tr>\n",
       "      <th>4</th>\n",
       "      <td>BDFBPRD</td>\n",
       "      <td>0</td>\n",
       "      <td>NaN</td>\n",
       "      <td>2.523125</td>\n",
       "      <td>0.733464</td>\n",
       "    </tr>\n",
       "  </tbody>\n",
       "</table>\n",
       "</div>"
      ],
      "text/plain": [
       "  customer_id  location_number location_type  latitude  longitude\n",
       "0     02SFNJH                0           NaN  1.682392 -78.789737\n",
       "1     02SFNJH                1           NaN  1.679137   0.766823\n",
       "2     02SFNJH                2           NaN -0.498648   0.661241\n",
       "3     RU43CXC                0          Home  0.100853   0.438165\n",
       "4     BDFBPRD                0           NaN  2.523125   0.733464"
      ]
     },
     "execution_count": 8,
     "metadata": {},
     "output_type": "execute_result"
    }
   ],
   "source": [
    "train_locations.head() #details on customer location"
   ]
  },
  {
   "cell_type": "code",
   "execution_count": 9,
   "metadata": {},
   "outputs": [
    {
     "name": "stdout",
     "output_type": "stream",
     "text": [
      "4Y0K8NQ    30\n",
      "NETYQ1C    26\n",
      "5EP9F62    20\n",
      "4UZKXW2    19\n",
      "YYKZN0F    19\n",
      "           ..\n",
      "3SW7JAL     1\n",
      "Z1KKOUK     1\n",
      "T2SFZ1D     1\n",
      "FW29RIH     1\n",
      "OPN9CXL     1\n",
      "Name: customer_id, Length: 35400, dtype: int64\n"
     ]
    }
   ],
   "source": [
    "print(train_locations['customer_id'].value_counts())"
   ]
  },
  {
   "cell_type": "code",
   "execution_count": 10,
   "metadata": {},
   "outputs": [
    {
     "name": "stdout",
     "output_type": "stream",
     "text": [
      "0     35400\n",
      "1     13798\n",
      "2      5488\n",
      "3      2519\n",
      "4      1153\n",
      "5       504\n",
      "6       246\n",
      "7       128\n",
      "8        76\n",
      "9        52\n",
      "10       34\n",
      "11       21\n",
      "12       15\n",
      "13       13\n",
      "14       13\n",
      "15        8\n",
      "16        6\n",
      "17        5\n",
      "18        5\n",
      "19        3\n",
      "20        2\n",
      "21        2\n",
      "22        2\n",
      "23        2\n",
      "24        2\n",
      "25        2\n",
      "28        1\n",
      "26        1\n",
      "27        1\n",
      "29        1\n",
      "Name: location_number, dtype: int64\n"
     ]
    }
   ],
   "source": [
    "print(train_locations['location_number'].value_counts())"
   ]
  },
  {
   "cell_type": "code",
   "execution_count": 11,
   "metadata": {},
   "outputs": [
    {
     "data": {
      "text/plain": [
       "59503"
      ]
     },
     "execution_count": 11,
     "metadata": {},
     "output_type": "execute_result"
    }
   ],
   "source": [
    "len(np.unique((train_locations[['customer_id','location_number']].values).astype(str),axis=0))\n",
    "#The customer id and loc number together have unique values of 59503, the same as the number of rows "
   ]
  },
  {
   "cell_type": "code",
   "execution_count": 12,
   "metadata": {},
   "outputs": [
    {
     "name": "stdout",
     "output_type": "stream",
     "text": [
      "35400\n",
      "59503\n"
     ]
    }
   ],
   "source": [
    "print(train_locations['customer_id'].nunique())\n",
    "print(len(train_locations))"
   ]
  },
  {
   "cell_type": "markdown",
   "metadata": {},
   "source": [
    "## Merge customer and locations"
   ]
  },
  {
   "cell_type": "code",
   "execution_count": 13,
   "metadata": {},
   "outputs": [],
   "source": [
    "cust_loc=pd.merge(train_customers,train_locations,how=\"right\",left_on='akeed_customer_id',right_on='customer_id')\n",
    "del cust_loc['akeed_customer_id']"
   ]
  },
  {
   "cell_type": "code",
   "execution_count": 14,
   "metadata": {},
   "outputs": [
    {
     "data": {
      "text/html": [
       "<div>\n",
       "<style scoped>\n",
       "    .dataframe tbody tr th:only-of-type {\n",
       "        vertical-align: middle;\n",
       "    }\n",
       "\n",
       "    .dataframe tbody tr th {\n",
       "        vertical-align: top;\n",
       "    }\n",
       "\n",
       "    .dataframe thead th {\n",
       "        text-align: right;\n",
       "    }\n",
       "</style>\n",
       "<table border=\"1\" class=\"dataframe\">\n",
       "  <thead>\n",
       "    <tr style=\"text-align: right;\">\n",
       "      <th></th>\n",
       "      <th>gender</th>\n",
       "      <th>dob</th>\n",
       "      <th>status</th>\n",
       "      <th>verified</th>\n",
       "      <th>language</th>\n",
       "      <th>created_at</th>\n",
       "      <th>updated_at</th>\n",
       "      <th>customer_id</th>\n",
       "      <th>location_number</th>\n",
       "      <th>location_type</th>\n",
       "      <th>latitude</th>\n",
       "      <th>longitude</th>\n",
       "    </tr>\n",
       "  </thead>\n",
       "  <tbody>\n",
       "    <tr>\n",
       "      <th>0</th>\n",
       "      <td>Male</td>\n",
       "      <td>NaN</td>\n",
       "      <td>1.0</td>\n",
       "      <td>1.0</td>\n",
       "      <td>EN</td>\n",
       "      <td>2018-11-14 13:50:26</td>\n",
       "      <td>2018-11-14 13:50:25</td>\n",
       "      <td>000THBA</td>\n",
       "      <td>0</td>\n",
       "      <td>NaN</td>\n",
       "      <td>-0.020250</td>\n",
       "      <td>0.167026</td>\n",
       "    </tr>\n",
       "    <tr>\n",
       "      <th>1</th>\n",
       "      <td>Male</td>\n",
       "      <td>1973.0</td>\n",
       "      <td>1.0</td>\n",
       "      <td>1.0</td>\n",
       "      <td>EN</td>\n",
       "      <td>2019-03-29 23:16:34</td>\n",
       "      <td>2019-03-29 23:16:34</td>\n",
       "      <td>001XN9X</td>\n",
       "      <td>0</td>\n",
       "      <td>Home</td>\n",
       "      <td>0.190209</td>\n",
       "      <td>-78.613388</td>\n",
       "    </tr>\n",
       "    <tr>\n",
       "      <th>2</th>\n",
       "      <td>NaN</td>\n",
       "      <td>NaN</td>\n",
       "      <td>1.0</td>\n",
       "      <td>1.0</td>\n",
       "      <td>NaN</td>\n",
       "      <td>2020-01-30 22:05:00</td>\n",
       "      <td>2020-01-30 22:05:18</td>\n",
       "      <td>001ZNTK</td>\n",
       "      <td>0</td>\n",
       "      <td>Other</td>\n",
       "      <td>14.075755</td>\n",
       "      <td>-1.613278</td>\n",
       "    </tr>\n",
       "    <tr>\n",
       "      <th>3</th>\n",
       "      <td>NaN</td>\n",
       "      <td>NaN</td>\n",
       "      <td>1.0</td>\n",
       "      <td>1.0</td>\n",
       "      <td>EN</td>\n",
       "      <td>2019-06-14 02:28:19</td>\n",
       "      <td>2019-10-01 18:46:07</td>\n",
       "      <td>002510Y</td>\n",
       "      <td>0</td>\n",
       "      <td>Home</td>\n",
       "      <td>0.056822</td>\n",
       "      <td>-78.597624</td>\n",
       "    </tr>\n",
       "    <tr>\n",
       "      <th>4</th>\n",
       "      <td>male</td>\n",
       "      <td>NaN</td>\n",
       "      <td>1.0</td>\n",
       "      <td>1.0</td>\n",
       "      <td>NaN</td>\n",
       "      <td>2019-12-30 11:44:14</td>\n",
       "      <td>2019-12-30 11:45:06</td>\n",
       "      <td>005ECL6</td>\n",
       "      <td>0</td>\n",
       "      <td>Work</td>\n",
       "      <td>-0.315825</td>\n",
       "      <td>0.158935</td>\n",
       "    </tr>\n",
       "  </tbody>\n",
       "</table>\n",
       "</div>"
      ],
      "text/plain": [
       "  gender     dob  status  verified language           created_at  \\\n",
       "0   Male     NaN     1.0       1.0       EN  2018-11-14 13:50:26   \n",
       "1   Male  1973.0     1.0       1.0       EN  2019-03-29 23:16:34   \n",
       "2    NaN     NaN     1.0       1.0      NaN  2020-01-30 22:05:00   \n",
       "3    NaN     NaN     1.0       1.0       EN  2019-06-14 02:28:19   \n",
       "4   male     NaN     1.0       1.0      NaN  2019-12-30 11:44:14   \n",
       "\n",
       "            updated_at customer_id  location_number location_type   latitude  \\\n",
       "0  2018-11-14 13:50:25     000THBA                0           NaN  -0.020250   \n",
       "1  2019-03-29 23:16:34     001XN9X                0          Home   0.190209   \n",
       "2  2020-01-30 22:05:18     001ZNTK                0         Other  14.075755   \n",
       "3  2019-10-01 18:46:07     002510Y                0          Home   0.056822   \n",
       "4  2019-12-30 11:45:06     005ECL6                0          Work  -0.315825   \n",
       "\n",
       "   longitude  \n",
       "0   0.167026  \n",
       "1 -78.613388  \n",
       "2  -1.613278  \n",
       "3 -78.597624  \n",
       "4   0.158935  "
      ]
     },
     "execution_count": 14,
     "metadata": {},
     "output_type": "execute_result"
    }
   ],
   "source": [
    "cust_loc.head()"
   ]
  },
  {
   "cell_type": "markdown",
   "metadata": {},
   "source": [
    "## Renaming some customer columns for clarity"
   ]
  },
  {
   "cell_type": "code",
   "execution_count": 15,
   "metadata": {},
   "outputs": [],
   "source": [
    "cust_loc=cust_loc.rename(columns={'latitude':'cust_latitude','longitude':'cust_longitude',\n",
    "                                  'location_type':'cust_location_type','location_number':'cust_location_number',\n",
    "                                  'created_at':'cust_created_at','updated_at':'cust_updated_at','status':'cust_status',\n",
    "                                  'verified':'cust_verified'})"
   ]
  },
  {
   "cell_type": "code",
   "execution_count": 16,
   "metadata": {},
   "outputs": [
    {
     "data": {
      "text/plain": [
       "array(['gender', 'dob', 'cust_status', 'cust_verified', 'language',\n",
       "       'cust_created_at', 'cust_updated_at', 'customer_id',\n",
       "       'cust_location_number', 'cust_location_type', 'cust_latitude',\n",
       "       'cust_longitude'], dtype=object)"
      ]
     },
     "execution_count": 16,
     "metadata": {},
     "output_type": "execute_result"
    }
   ],
   "source": [
    "cust_loc.columns.values"
   ]
  },
  {
   "cell_type": "markdown",
   "metadata": {},
   "source": [
    "## Lat and long"
   ]
  },
  {
   "cell_type": "code",
   "execution_count": 17,
   "metadata": {},
   "outputs": [
    {
     "name": "stdout",
     "output_type": "stream",
     "text": [
      "<class 'numpy.float64'>\n",
      "cust_latitude     6\n",
      "cust_longitude    6\n",
      "dtype: int64\n",
      "cust_latitude     0\n",
      "cust_longitude    0\n",
      "dtype: int64\n"
     ]
    },
    {
     "data": {
      "text/html": [
       "<div>\n",
       "<style scoped>\n",
       "    .dataframe tbody tr th:only-of-type {\n",
       "        vertical-align: middle;\n",
       "    }\n",
       "\n",
       "    .dataframe tbody tr th {\n",
       "        vertical-align: top;\n",
       "    }\n",
       "\n",
       "    .dataframe thead th {\n",
       "        text-align: right;\n",
       "    }\n",
       "</style>\n",
       "<table border=\"1\" class=\"dataframe\">\n",
       "  <thead>\n",
       "    <tr style=\"text-align: right;\">\n",
       "      <th></th>\n",
       "      <th>cust_latitude</th>\n",
       "      <th>cust_longitude</th>\n",
       "    </tr>\n",
       "  </thead>\n",
       "  <tbody>\n",
       "    <tr>\n",
       "      <th>0</th>\n",
       "      <td>-0.020250</td>\n",
       "      <td>0.167026</td>\n",
       "    </tr>\n",
       "    <tr>\n",
       "      <th>1</th>\n",
       "      <td>0.190209</td>\n",
       "      <td>-78.613388</td>\n",
       "    </tr>\n",
       "    <tr>\n",
       "      <th>2</th>\n",
       "      <td>14.075755</td>\n",
       "      <td>-1.613278</td>\n",
       "    </tr>\n",
       "    <tr>\n",
       "      <th>3</th>\n",
       "      <td>0.056822</td>\n",
       "      <td>-78.597624</td>\n",
       "    </tr>\n",
       "    <tr>\n",
       "      <th>4</th>\n",
       "      <td>-0.315825</td>\n",
       "      <td>0.158935</td>\n",
       "    </tr>\n",
       "    <tr>\n",
       "      <th>...</th>\n",
       "      <td>...</td>\n",
       "      <td>...</td>\n",
       "    </tr>\n",
       "    <tr>\n",
       "      <th>59498</th>\n",
       "      <td>0.212891</td>\n",
       "      <td>0.520747</td>\n",
       "    </tr>\n",
       "    <tr>\n",
       "      <th>59499</th>\n",
       "      <td>-0.575511</td>\n",
       "      <td>0.028316</td>\n",
       "    </tr>\n",
       "    <tr>\n",
       "      <th>59500</th>\n",
       "      <td>1.992047</td>\n",
       "      <td>0.699620</td>\n",
       "    </tr>\n",
       "    <tr>\n",
       "      <th>59501</th>\n",
       "      <td>2.274840</td>\n",
       "      <td>0.731213</td>\n",
       "    </tr>\n",
       "    <tr>\n",
       "      <th>59502</th>\n",
       "      <td>-0.105119</td>\n",
       "      <td>0.078487</td>\n",
       "    </tr>\n",
       "  </tbody>\n",
       "</table>\n",
       "<p>59503 rows × 2 columns</p>\n",
       "</div>"
      ],
      "text/plain": [
       "       cust_latitude  cust_longitude\n",
       "0          -0.020250        0.167026\n",
       "1           0.190209      -78.613388\n",
       "2          14.075755       -1.613278\n",
       "3           0.056822      -78.597624\n",
       "4          -0.315825        0.158935\n",
       "...              ...             ...\n",
       "59498       0.212891        0.520747\n",
       "59499      -0.575511        0.028316\n",
       "59500       1.992047        0.699620\n",
       "59501       2.274840        0.731213\n",
       "59502      -0.105119        0.078487\n",
       "\n",
       "[59503 rows x 2 columns]"
      ]
     },
     "execution_count": 17,
     "metadata": {},
     "output_type": "execute_result"
    }
   ],
   "source": [
    "print(type(cust_loc['cust_latitude'][0]))\n",
    "print(cust_loc[['cust_latitude', 'cust_longitude']].isnull().sum())\n",
    "cust_loc[['cust_latitude', 'cust_longitude']]=cust_loc[['cust_latitude', 'cust_longitude']].fillna(0)\n",
    "print(cust_loc[['cust_latitude', 'cust_longitude']].isnull().sum())\n",
    "cust_loc[[ 'cust_latitude', 'cust_longitude']]"
   ]
  },
  {
   "cell_type": "code",
   "execution_count": 18,
   "metadata": {},
   "outputs": [
    {
     "data": {
      "text/plain": [
       "<matplotlib.collections.PathCollection at 0x16e63d33888>"
      ]
     },
     "execution_count": 18,
     "metadata": {},
     "output_type": "execute_result"
    },
    {
     "data": {
      "image/png": "[encoded data removed]",
      "text/plain": [
       "<Figure size 432x288 with 2 Axes>"
      ]
     },
     "metadata": {
      "needs_background": "light"
     },
     "output_type": "display_data"
    }
   ],
   "source": [
    "#cluster lat and long\n",
    "kmeans=KMeans(n_clusters=5,init='k-means++')\n",
    "kmeans.fit(cust_loc[[ 'cust_latitude', 'cust_longitude']])\n",
    "cust_loc['loc_cluster_label'] = kmeans.fit_predict(cust_loc[[ 'cust_latitude', 'cust_longitude']])\n",
    "centers = kmeans.cluster_centers_ # Coordinates of cluster centers.\n",
    "labels = kmeans.predict(cust_loc[[ 'cust_latitude', 'cust_longitude']])\n",
    "# Full_data['cluster_label'].value_counts()\n",
    "cust_loc.plot.scatter(x = 'cust_latitude', y = 'cust_longitude', c=labels, s=50, cmap='viridis')\n",
    "plt.scatter(centers[:, 0], centers[:, 1], c='r', s=200, alpha=0.5)"
   ]
  },
  {
   "cell_type": "code",
   "execution_count": 19,
   "metadata": {},
   "outputs": [
    {
     "data": {
      "text/plain": [
       "1    39244\n",
       "0    19112\n",
       "2     1023\n",
       "4      111\n",
       "3       13\n",
       "Name: loc_cluster_label, dtype: int64"
      ]
     },
     "execution_count": 19,
     "metadata": {},
     "output_type": "execute_result"
    }
   ],
   "source": [
    "cust_loc['loc_cluster_label'].value_counts()"
   ]
  },
  {
   "cell_type": "markdown",
   "metadata": {},
   "source": [
    "## Gender"
   ]
  },
  {
   "cell_type": "code",
   "execution_count": 20,
   "metadata": {},
   "outputs": [
    {
     "data": {
      "text/plain": [
       "array(['Male', nan, 'male', 'Female', 'Female  ', '?????', 'Male  ', '  ',\n",
       "       'Female   ', 'Female    ', 'Female '], dtype=object)"
      ]
     },
     "execution_count": 20,
     "metadata": {},
     "output_type": "execute_result"
    }
   ],
   "source": [
    "cust_loc['gender'].unique()"
   ]
  },
  {
   "cell_type": "code",
   "execution_count": 21,
   "metadata": {},
   "outputs": [],
   "source": [
    "def gender(title):\n",
    "    if title=='Male' or title=='Male  ' or title=='male' :\n",
    "        return 'male'\n",
    "    elif title=='Female'  or title=='Female  '  or title=='Female   ' or title=='Female    ' or title=='Female ':\n",
    "        return 'female'\n",
    "    else:\n",
    "        return np.nan"
   ]
  },
  {
   "cell_type": "code",
   "execution_count": 22,
   "metadata": {},
   "outputs": [],
   "source": [
    "cust_loc['gender']=cust_loc['gender'].apply(gender)"
   ]
  },
  {
   "cell_type": "code",
   "execution_count": 23,
   "metadata": {},
   "outputs": [
    {
     "data": {
      "text/plain": [
       "array(['male', nan, 'female'], dtype=object)"
      ]
     },
     "execution_count": 23,
     "metadata": {},
     "output_type": "execute_result"
    }
   ],
   "source": [
    "cust_loc['gender'].unique()"
   ]
  },
  {
   "cell_type": "markdown",
   "metadata": {},
   "source": [
    "## Created at"
   ]
  },
  {
   "cell_type": "code",
   "execution_count": 24,
   "metadata": {},
   "outputs": [
    {
     "data": {
      "text/plain": [
       "0        2018-11-14 13:50:26\n",
       "1        2019-03-29 23:16:34\n",
       "2        2020-01-30 22:05:00\n",
       "3        2019-06-14 02:28:19\n",
       "4        2019-12-30 11:44:14\n",
       "                ...         \n",
       "59498                    NaN\n",
       "59499                    NaN\n",
       "59500                    NaN\n",
       "59501                    NaN\n",
       "59502                    NaN\n",
       "Name: cust_created_at, Length: 59503, dtype: object"
      ]
     },
     "execution_count": 24,
     "metadata": {},
     "output_type": "execute_result"
    }
   ],
   "source": [
    "cust_loc['cust_created_at']"
   ]
  },
  {
   "cell_type": "code",
   "execution_count": 25,
   "metadata": {},
   "outputs": [
    {
     "data": {
      "text/plain": [
       "1479"
      ]
     },
     "execution_count": 25,
     "metadata": {},
     "output_type": "execute_result"
    }
   ],
   "source": [
    "cust_loc['cust_created_at'].isnull().sum()"
   ]
  },
  {
   "cell_type": "code",
   "execution_count": 26,
   "metadata": {},
   "outputs": [],
   "source": [
    "cust_loc['Date_cust_created_at'] = cust_loc['cust_created_at'].str.split(' ').str[0]\n"
   ]
  },
  {
   "cell_type": "code",
   "execution_count": 27,
   "metadata": {},
   "outputs": [
    {
     "data": {
      "text/plain": [
       "0        2018-11-14\n",
       "1        2019-03-29\n",
       "2        2020-01-30\n",
       "3        2019-06-14\n",
       "4        2019-12-30\n",
       "            ...    \n",
       "59498           NaN\n",
       "59499           NaN\n",
       "59500           NaN\n",
       "59501           NaN\n",
       "59502           NaN\n",
       "Name: Date_cust_created_at, Length: 59503, dtype: object"
      ]
     },
     "execution_count": 27,
     "metadata": {},
     "output_type": "execute_result"
    }
   ],
   "source": [
    "cust_loc['Date_cust_created_at']"
   ]
  },
  {
   "cell_type": "code",
   "execution_count": 28,
   "metadata": {},
   "outputs": [],
   "source": [
    "cust_loc['Date_cust_created_at'] = pd.to_datetime(cust_loc['Date_cust_created_at'], format='%Y-%m-%d')"
   ]
  },
  {
   "cell_type": "code",
   "execution_count": 29,
   "metadata": {},
   "outputs": [
    {
     "name": "stdout",
     "output_type": "stream",
     "text": [
      "<class 'pandas._libs.tslibs.timestamps.Timestamp'>\n"
     ]
    },
    {
     "data": {
      "text/plain": [
       "0       2018-11-14\n",
       "1       2019-03-29\n",
       "2       2020-01-30\n",
       "3       2019-06-14\n",
       "4       2019-12-30\n",
       "           ...    \n",
       "59498          NaT\n",
       "59499          NaT\n",
       "59500          NaT\n",
       "59501          NaT\n",
       "59502          NaT\n",
       "Name: Date_cust_created_at, Length: 59503, dtype: datetime64[ns]"
      ]
     },
     "execution_count": 29,
     "metadata": {},
     "output_type": "execute_result"
    }
   ],
   "source": [
    "print(type(cust_loc['Date_cust_created_at'][0]))\n",
    "cust_loc['Date_cust_created_at']"
   ]
  },
  {
   "cell_type": "code",
   "execution_count": 30,
   "metadata": {},
   "outputs": [
    {
     "name": "stdout",
     "output_type": "stream",
     "text": [
      "2020-07-01 00:00:00\n",
      "<class 'pandas._libs.tslibs.timestamps.Timestamp'>\n",
      "595\n"
     ]
    }
   ],
   "source": [
    "Curr_date='2020-07-01'\n",
    "Curr_date=pd.to_datetime(Curr_date,format='%Y-%m-%d')\n",
    "print(Curr_date)\n",
    "print(type(Curr_date))\n",
    "print(abs(Curr_date-cust_loc['Date_cust_created_at'][0]).days)"
   ]
  },
  {
   "cell_type": "code",
   "execution_count": 31,
   "metadata": {},
   "outputs": [],
   "source": [
    "def days_between(day):\n",
    "    return (Curr_date-day).days"
   ]
  },
  {
   "cell_type": "code",
   "execution_count": 32,
   "metadata": {},
   "outputs": [],
   "source": [
    "cust_loc['Cust_created_days']=cust_loc['Date_cust_created_at'].apply(days_between)"
   ]
  },
  {
   "cell_type": "code",
   "execution_count": 33,
   "metadata": {},
   "outputs": [
    {
     "data": {
      "text/plain": [
       "1479"
      ]
     },
     "execution_count": 33,
     "metadata": {},
     "output_type": "execute_result"
    }
   ],
   "source": [
    "cust_loc['Cust_created_days'].isnull().sum()"
   ]
  },
  {
   "cell_type": "code",
   "execution_count": 34,
   "metadata": {},
   "outputs": [],
   "source": [
    "cust_loc.drop(['language','cust_longitude','cust_latitude','cust_updated_at','Date_cust_created_at','cust_created_at'],axis=1,inplace=True)"
   ]
  },
  {
   "cell_type": "markdown",
   "metadata": {},
   "source": [
    "## One hot encoding"
   ]
  },
  {
   "cell_type": "code",
   "execution_count": 35,
   "metadata": {},
   "outputs": [
    {
     "data": {
      "text/html": [
       "<div>\n",
       "<style scoped>\n",
       "    .dataframe tbody tr th:only-of-type {\n",
       "        vertical-align: middle;\n",
       "    }\n",
       "\n",
       "    .dataframe tbody tr th {\n",
       "        vertical-align: top;\n",
       "    }\n",
       "\n",
       "    .dataframe thead th {\n",
       "        text-align: right;\n",
       "    }\n",
       "</style>\n",
       "<table border=\"1\" class=\"dataframe\">\n",
       "  <thead>\n",
       "    <tr style=\"text-align: right;\">\n",
       "      <th></th>\n",
       "      <th>dob</th>\n",
       "      <th>cust_status</th>\n",
       "      <th>cust_verified</th>\n",
       "      <th>customer_id</th>\n",
       "      <th>cust_location_number</th>\n",
       "      <th>Cust_created_days</th>\n",
       "      <th>cust_location_type_Home</th>\n",
       "      <th>cust_location_type_Other</th>\n",
       "      <th>cust_location_type_Work</th>\n",
       "      <th>gender_female</th>\n",
       "      <th>gender_male</th>\n",
       "      <th>cust_lan_long_0</th>\n",
       "      <th>cust_lan_long_1</th>\n",
       "      <th>cust_lan_long_2</th>\n",
       "      <th>cust_lan_long_3</th>\n",
       "      <th>cust_lan_long_4</th>\n",
       "    </tr>\n",
       "  </thead>\n",
       "  <tbody>\n",
       "    <tr>\n",
       "      <th>0</th>\n",
       "      <td>NaN</td>\n",
       "      <td>1.0</td>\n",
       "      <td>1.0</td>\n",
       "      <td>000THBA</td>\n",
       "      <td>0</td>\n",
       "      <td>595.0</td>\n",
       "      <td>0</td>\n",
       "      <td>0</td>\n",
       "      <td>0</td>\n",
       "      <td>0</td>\n",
       "      <td>1</td>\n",
       "      <td>0</td>\n",
       "      <td>1</td>\n",
       "      <td>0</td>\n",
       "      <td>0</td>\n",
       "      <td>0</td>\n",
       "    </tr>\n",
       "    <tr>\n",
       "      <th>1</th>\n",
       "      <td>1973.0</td>\n",
       "      <td>1.0</td>\n",
       "      <td>1.0</td>\n",
       "      <td>001XN9X</td>\n",
       "      <td>0</td>\n",
       "      <td>460.0</td>\n",
       "      <td>1</td>\n",
       "      <td>0</td>\n",
       "      <td>0</td>\n",
       "      <td>0</td>\n",
       "      <td>1</td>\n",
       "      <td>1</td>\n",
       "      <td>0</td>\n",
       "      <td>0</td>\n",
       "      <td>0</td>\n",
       "      <td>0</td>\n",
       "    </tr>\n",
       "    <tr>\n",
       "      <th>2</th>\n",
       "      <td>NaN</td>\n",
       "      <td>1.0</td>\n",
       "      <td>1.0</td>\n",
       "      <td>001ZNTK</td>\n",
       "      <td>0</td>\n",
       "      <td>153.0</td>\n",
       "      <td>0</td>\n",
       "      <td>1</td>\n",
       "      <td>0</td>\n",
       "      <td>0</td>\n",
       "      <td>0</td>\n",
       "      <td>0</td>\n",
       "      <td>1</td>\n",
       "      <td>0</td>\n",
       "      <td>0</td>\n",
       "      <td>0</td>\n",
       "    </tr>\n",
       "    <tr>\n",
       "      <th>3</th>\n",
       "      <td>NaN</td>\n",
       "      <td>1.0</td>\n",
       "      <td>1.0</td>\n",
       "      <td>002510Y</td>\n",
       "      <td>0</td>\n",
       "      <td>383.0</td>\n",
       "      <td>1</td>\n",
       "      <td>0</td>\n",
       "      <td>0</td>\n",
       "      <td>0</td>\n",
       "      <td>0</td>\n",
       "      <td>1</td>\n",
       "      <td>0</td>\n",
       "      <td>0</td>\n",
       "      <td>0</td>\n",
       "      <td>0</td>\n",
       "    </tr>\n",
       "    <tr>\n",
       "      <th>4</th>\n",
       "      <td>NaN</td>\n",
       "      <td>1.0</td>\n",
       "      <td>1.0</td>\n",
       "      <td>005ECL6</td>\n",
       "      <td>0</td>\n",
       "      <td>184.0</td>\n",
       "      <td>0</td>\n",
       "      <td>0</td>\n",
       "      <td>1</td>\n",
       "      <td>0</td>\n",
       "      <td>1</td>\n",
       "      <td>0</td>\n",
       "      <td>1</td>\n",
       "      <td>0</td>\n",
       "      <td>0</td>\n",
       "      <td>0</td>\n",
       "    </tr>\n",
       "  </tbody>\n",
       "</table>\n",
       "</div>"
      ],
      "text/plain": [
       "      dob  cust_status  cust_verified customer_id  cust_location_number  \\\n",
       "0     NaN          1.0            1.0     000THBA                     0   \n",
       "1  1973.0          1.0            1.0     001XN9X                     0   \n",
       "2     NaN          1.0            1.0     001ZNTK                     0   \n",
       "3     NaN          1.0            1.0     002510Y                     0   \n",
       "4     NaN          1.0            1.0     005ECL6                     0   \n",
       "\n",
       "   Cust_created_days  cust_location_type_Home  cust_location_type_Other  \\\n",
       "0              595.0                        0                         0   \n",
       "1              460.0                        1                         0   \n",
       "2              153.0                        0                         1   \n",
       "3              383.0                        1                         0   \n",
       "4              184.0                        0                         0   \n",
       "\n",
       "   cust_location_type_Work  gender_female  gender_male  cust_lan_long_0  \\\n",
       "0                        0              0            1                0   \n",
       "1                        0              0            1                1   \n",
       "2                        0              0            0                0   \n",
       "3                        0              0            0                1   \n",
       "4                        1              0            1                0   \n",
       "\n",
       "   cust_lan_long_1  cust_lan_long_2  cust_lan_long_3  cust_lan_long_4  \n",
       "0                1                0                0                0  \n",
       "1                0                0                0                0  \n",
       "2                1                0                0                0  \n",
       "3                0                0                0                0  \n",
       "4                1                0                0                0  "
      ]
     },
     "execution_count": 35,
     "metadata": {},
     "output_type": "execute_result"
    }
   ],
   "source": [
    "TrainDummy = pd.get_dummies(cust_loc['cust_location_type'], prefix = 'cust_location_type') \n",
    "genderDummy=pd.get_dummies(cust_loc['gender'],prefix='gender')\n",
    "locationDummy=pd.get_dummies(cust_loc['loc_cluster_label'],prefix='cust_lan_long')\n",
    "del cust_loc['cust_location_type']\n",
    "del cust_loc['gender']\n",
    "del cust_loc['loc_cluster_label']\n",
    "customer = pd.concat([cust_loc,TrainDummy,genderDummy,locationDummy], axis=1)\n",
    "customer.head()"
   ]
  },
  {
   "cell_type": "code",
   "execution_count": 36,
   "metadata": {},
   "outputs": [],
   "source": [
    "#convert to csv file\n",
    "customer.to_csv(\"customers_p1.csv\",index=False)"
   ]
  },
  {
   "cell_type": "code",
   "execution_count": null,
   "metadata": {},
   "outputs": [],
   "source": []
  }
 ],
 "metadata": {
  "kernelspec": {
   "display_name": "Python 3",
   "language": "python",
   "name": "python3"
  },
  "language_info": {
   "codemirror_mode": {
    "name": "ipython",
    "version": 3
   },
   "file_extension": ".py",
   "mimetype": "text/x-python",
   "name": "python",
   "nbconvert_exporter": "python",
   "pygments_lexer": "ipython3",
   "version": "3.7.6"
  }
 },
 "nbformat": 4,
 "nbformat_minor": 4
}
