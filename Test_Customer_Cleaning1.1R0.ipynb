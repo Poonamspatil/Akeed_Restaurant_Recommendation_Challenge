{
 "cells": [
  {
   "cell_type": "markdown",
   "metadata": {},
   "source": [
    "## Import libraries"
   ]
  },
  {
   "cell_type": "code",
   "execution_count": 1,
   "metadata": {},
   "outputs": [],
   "source": [
    "import pandas as pd\n",
    "import numpy as np\n",
    "from sklearn.cluster import KMeans\n",
    "import matplotlib.pyplot as plt"
   ]
  },
  {
   "cell_type": "markdown",
   "metadata": {},
   "source": [
    "## Set filenames"
   ]
  },
  {
   "cell_type": "code",
   "execution_count": 2,
   "metadata": {},
   "outputs": [],
   "source": [
    "test_locations=pd.read_csv(\"Data/test_locations.csv\")\n",
    "test_customers=pd.read_csv(\"Data/test_customers.csv\")"
   ]
  },
  {
   "cell_type": "markdown",
   "metadata": {},
   "source": [
    "## Remove customer duplicate info"
   ]
  },
  {
   "cell_type": "code",
   "execution_count": 3,
   "metadata": {},
   "outputs": [
    {
     "data": {
      "text/html": [
       "<div>\n",
       "<style scoped>\n",
       "    .dataframe tbody tr th:only-of-type {\n",
       "        vertical-align: middle;\n",
       "    }\n",
       "\n",
       "    .dataframe tbody tr th {\n",
       "        vertical-align: top;\n",
       "    }\n",
       "\n",
       "    .dataframe thead th {\n",
       "        text-align: right;\n",
       "    }\n",
       "</style>\n",
       "<table border=\"1\" class=\"dataframe\">\n",
       "  <thead>\n",
       "    <tr style=\"text-align: right;\">\n",
       "      <th></th>\n",
       "      <th>akeed_customer_id</th>\n",
       "      <th>gender</th>\n",
       "      <th>dob</th>\n",
       "      <th>status</th>\n",
       "      <th>verified</th>\n",
       "      <th>language</th>\n",
       "      <th>created_at</th>\n",
       "      <th>updated_at</th>\n",
       "    </tr>\n",
       "  </thead>\n",
       "  <tbody>\n",
       "    <tr>\n",
       "      <th>0</th>\n",
       "      <td>ICE2DJP</td>\n",
       "      <td>Male</td>\n",
       "      <td>NaN</td>\n",
       "      <td>1</td>\n",
       "      <td>1</td>\n",
       "      <td>EN</td>\n",
       "      <td>2018-02-07 16:45:36</td>\n",
       "      <td>2018-02-07 16:45:36</td>\n",
       "    </tr>\n",
       "    <tr>\n",
       "      <th>1</th>\n",
       "      <td>FWNUI71</td>\n",
       "      <td>Male</td>\n",
       "      <td>NaN</td>\n",
       "      <td>1</td>\n",
       "      <td>1</td>\n",
       "      <td>EN</td>\n",
       "      <td>2018-03-22 20:11:47</td>\n",
       "      <td>2018-03-22 20:11:47</td>\n",
       "    </tr>\n",
       "    <tr>\n",
       "      <th>2</th>\n",
       "      <td>LRX7BCH</td>\n",
       "      <td>Male</td>\n",
       "      <td>NaN</td>\n",
       "      <td>1</td>\n",
       "      <td>1</td>\n",
       "      <td>EN</td>\n",
       "      <td>2018-04-17 20:01:15</td>\n",
       "      <td>2018-04-17 20:01:15</td>\n",
       "    </tr>\n",
       "    <tr>\n",
       "      <th>3</th>\n",
       "      <td>D96DHMD</td>\n",
       "      <td>Male</td>\n",
       "      <td>NaN</td>\n",
       "      <td>1</td>\n",
       "      <td>1</td>\n",
       "      <td>EN</td>\n",
       "      <td>2018-04-29 22:35:52</td>\n",
       "      <td>2018-04-29 22:35:52</td>\n",
       "    </tr>\n",
       "    <tr>\n",
       "      <th>4</th>\n",
       "      <td>88Q8Y5V</td>\n",
       "      <td>Male</td>\n",
       "      <td>1997.0</td>\n",
       "      <td>1</td>\n",
       "      <td>1</td>\n",
       "      <td>EN</td>\n",
       "      <td>2018-05-05 12:38:09</td>\n",
       "      <td>2018-05-05 12:38:09</td>\n",
       "    </tr>\n",
       "  </tbody>\n",
       "</table>\n",
       "</div>"
      ],
      "text/plain": [
       "  akeed_customer_id gender     dob  status  verified language  \\\n",
       "0           ICE2DJP   Male     NaN       1         1       EN   \n",
       "1           FWNUI71   Male     NaN       1         1       EN   \n",
       "2           LRX7BCH   Male     NaN       1         1       EN   \n",
       "3           D96DHMD   Male     NaN       1         1       EN   \n",
       "4           88Q8Y5V   Male  1997.0       1         1       EN   \n",
       "\n",
       "            created_at           updated_at  \n",
       "0  2018-02-07 16:45:36  2018-02-07 16:45:36  \n",
       "1  2018-03-22 20:11:47  2018-03-22 20:11:47  \n",
       "2  2018-04-17 20:01:15  2018-04-17 20:01:15  \n",
       "3  2018-04-29 22:35:52  2018-04-29 22:35:52  \n",
       "4  2018-05-05 12:38:09  2018-05-05 12:38:09  "
      ]
     },
     "execution_count": 3,
     "metadata": {},
     "output_type": "execute_result"
    }
   ],
   "source": [
    "test_customers.head() #Customer id details"
   ]
  },
  {
   "cell_type": "code",
   "execution_count": 4,
   "metadata": {},
   "outputs": [
    {
     "data": {
      "text/plain": [
       "9768"
      ]
     },
     "execution_count": 4,
     "metadata": {},
     "output_type": "execute_result"
    }
   ],
   "source": [
    "len(test_customers)"
   ]
  },
  {
   "cell_type": "code",
   "execution_count": 5,
   "metadata": {},
   "outputs": [
    {
     "data": {
      "text/plain": [
       "JGRG3RQ    4\n",
       "DSJRR66    3\n",
       "4X2Y51H    3\n",
       "P4MAWAE    3\n",
       "II7YY1M    2\n",
       "          ..\n",
       "1EZVCXR    1\n",
       "L5WQ9MF    1\n",
       "K5MVWOI    1\n",
       "W6NHMMO    1\n",
       "LRX7BCH    1\n",
       "Name: akeed_customer_id, Length: 9753, dtype: int64"
      ]
     },
     "execution_count": 5,
     "metadata": {},
     "output_type": "execute_result"
    }
   ],
   "source": [
    "test_customers['akeed_customer_id'].value_counts() #There are duplicate values, let's"
   ]
  },
  {
   "cell_type": "code",
   "execution_count": 6,
   "metadata": {},
   "outputs": [],
   "source": [
    "# Sort customer file on customer ID and Verified columns in ascending order. Remove duplicates and keep last record that is verified.\n",
    "test_customers =test_customers.sort_values(by=['akeed_customer_id', 'verified'])\n",
    "test_customers.drop_duplicates(subset='akeed_customer_id',keep='last',inplace=True)"
   ]
  },
  {
   "cell_type": "code",
   "execution_count": 7,
   "metadata": {},
   "outputs": [
    {
     "name": "stdout",
     "output_type": "stream",
     "text": [
      "9753\n",
      "9753\n"
     ]
    }
   ],
   "source": [
    "print(test_customers['akeed_customer_id'].nunique())\n",
    "print(len(test_customers))"
   ]
  },
  {
   "cell_type": "markdown",
   "metadata": {},
   "source": [
    "## Customer locations  info"
   ]
  },
  {
   "cell_type": "code",
   "execution_count": 8,
   "metadata": {},
   "outputs": [
    {
     "data": {
      "text/html": [
       "<div>\n",
       "<style scoped>\n",
       "    .dataframe tbody tr th:only-of-type {\n",
       "        vertical-align: middle;\n",
       "    }\n",
       "\n",
       "    .dataframe tbody tr th {\n",
       "        vertical-align: top;\n",
       "    }\n",
       "\n",
       "    .dataframe thead th {\n",
       "        text-align: right;\n",
       "    }\n",
       "</style>\n",
       "<table border=\"1\" class=\"dataframe\">\n",
       "  <thead>\n",
       "    <tr style=\"text-align: right;\">\n",
       "      <th></th>\n",
       "      <th>customer_id</th>\n",
       "      <th>location_number</th>\n",
       "      <th>location_type</th>\n",
       "      <th>latitude</th>\n",
       "      <th>longitude</th>\n",
       "    </tr>\n",
       "  </thead>\n",
       "  <tbody>\n",
       "    <tr>\n",
       "      <th>0</th>\n",
       "      <td>Z59FTQD</td>\n",
       "      <td>0</td>\n",
       "      <td>NaN</td>\n",
       "      <td>126.032278</td>\n",
       "      <td>-9.106019</td>\n",
       "    </tr>\n",
       "    <tr>\n",
       "      <th>1</th>\n",
       "      <td>0JP29SK</td>\n",
       "      <td>0</td>\n",
       "      <td>Home</td>\n",
       "      <td>0.278709</td>\n",
       "      <td>-78.623847</td>\n",
       "    </tr>\n",
       "    <tr>\n",
       "      <th>2</th>\n",
       "      <td>0JP29SK</td>\n",
       "      <td>1</td>\n",
       "      <td>Home</td>\n",
       "      <td>0.124485</td>\n",
       "      <td>-78.605621</td>\n",
       "    </tr>\n",
       "    <tr>\n",
       "      <th>3</th>\n",
       "      <td>0JP29SK</td>\n",
       "      <td>2</td>\n",
       "      <td>NaN</td>\n",
       "      <td>-0.113891</td>\n",
       "      <td>-78.577449</td>\n",
       "    </tr>\n",
       "    <tr>\n",
       "      <th>4</th>\n",
       "      <td>0JP29SK</td>\n",
       "      <td>3</td>\n",
       "      <td>NaN</td>\n",
       "      <td>-0.848796</td>\n",
       "      <td>0.136726</td>\n",
       "    </tr>\n",
       "  </tbody>\n",
       "</table>\n",
       "</div>"
      ],
      "text/plain": [
       "  customer_id  location_number location_type    latitude  longitude\n",
       "0     Z59FTQD                0           NaN  126.032278  -9.106019\n",
       "1     0JP29SK                0          Home    0.278709 -78.623847\n",
       "2     0JP29SK                1          Home    0.124485 -78.605621\n",
       "3     0JP29SK                2           NaN   -0.113891 -78.577449\n",
       "4     0JP29SK                3           NaN   -0.848796   0.136726"
      ]
     },
     "execution_count": 8,
     "metadata": {},
     "output_type": "execute_result"
    }
   ],
   "source": [
    "test_locations.head() #details on customer location"
   ]
  },
  {
   "cell_type": "code",
   "execution_count": 9,
   "metadata": {},
   "outputs": [
    {
     "name": "stdout",
     "output_type": "stream",
     "text": [
      "T1L5K29    12\n",
      "PEHRJ52    11\n",
      "NQJU5X3    10\n",
      "529ZR7J    10\n",
      "2U9M7XW     9\n",
      "           ..\n",
      "SEABHYA     1\n",
      "369I4YD     1\n",
      "5MFILQ6     1\n",
      "Z88IXKB     1\n",
      "NQIQASP     1\n",
      "Name: customer_id, Length: 10000, dtype: int64\n"
     ]
    }
   ],
   "source": [
    "print(test_locations['customer_id'].value_counts())"
   ]
  },
  {
   "cell_type": "code",
   "execution_count": 10,
   "metadata": {},
   "outputs": [
    {
     "name": "stdout",
     "output_type": "stream",
     "text": [
      "0     10000\n",
      "1      3821\n",
      "2      1551\n",
      "3       729\n",
      "4       336\n",
      "5       168\n",
      "6        71\n",
      "7        26\n",
      "8        11\n",
      "9         4\n",
      "10        2\n",
      "11        1\n",
      "Name: location_number, dtype: int64\n"
     ]
    }
   ],
   "source": [
    "print(test_locations['location_number'].value_counts())"
   ]
  },
  {
   "cell_type": "code",
   "execution_count": 11,
   "metadata": {},
   "outputs": [
    {
     "data": {
      "text/plain": [
       "16720"
      ]
     },
     "execution_count": 11,
     "metadata": {},
     "output_type": "execute_result"
    }
   ],
   "source": [
    "len(np.unique((test_locations[['customer_id','location_number']].values).astype(str),axis=0))\n",
    "#The customer id and loc number together have unique values of 59503, the same as the number of rows "
   ]
  },
  {
   "cell_type": "code",
   "execution_count": 12,
   "metadata": {},
   "outputs": [
    {
     "name": "stdout",
     "output_type": "stream",
     "text": [
      "10000\n",
      "16720\n"
     ]
    }
   ],
   "source": [
    "print(test_locations['customer_id'].nunique())\n",
    "print(len(test_locations))"
   ]
  },
  {
   "cell_type": "markdown",
   "metadata": {},
   "source": [
    "## Merge customer and locations"
   ]
  },
  {
   "cell_type": "code",
   "execution_count": 13,
   "metadata": {},
   "outputs": [],
   "source": [
    "cust_loc=pd.merge(test_customers,test_locations,how=\"right\",left_on='akeed_customer_id',right_on='customer_id')\n",
    "del cust_loc['akeed_customer_id']"
   ]
  },
  {
   "cell_type": "code",
   "execution_count": 14,
   "metadata": {},
   "outputs": [
    {
     "data": {
      "text/html": [
       "<div>\n",
       "<style scoped>\n",
       "    .dataframe tbody tr th:only-of-type {\n",
       "        vertical-align: middle;\n",
       "    }\n",
       "\n",
       "    .dataframe tbody tr th {\n",
       "        vertical-align: top;\n",
       "    }\n",
       "\n",
       "    .dataframe thead th {\n",
       "        text-align: right;\n",
       "    }\n",
       "</style>\n",
       "<table border=\"1\" class=\"dataframe\">\n",
       "  <thead>\n",
       "    <tr style=\"text-align: right;\">\n",
       "      <th></th>\n",
       "      <th>gender</th>\n",
       "      <th>dob</th>\n",
       "      <th>status</th>\n",
       "      <th>verified</th>\n",
       "      <th>language</th>\n",
       "      <th>created_at</th>\n",
       "      <th>updated_at</th>\n",
       "      <th>customer_id</th>\n",
       "      <th>location_number</th>\n",
       "      <th>location_type</th>\n",
       "      <th>latitude</th>\n",
       "      <th>longitude</th>\n",
       "    </tr>\n",
       "  </thead>\n",
       "  <tbody>\n",
       "    <tr>\n",
       "      <th>0</th>\n",
       "      <td>Male</td>\n",
       "      <td>NaN</td>\n",
       "      <td>1.0</td>\n",
       "      <td>1.0</td>\n",
       "      <td>EN</td>\n",
       "      <td>2018-12-19 17:41:20</td>\n",
       "      <td>2018-12-19 17:41:20</td>\n",
       "      <td>000IPH5</td>\n",
       "      <td>0</td>\n",
       "      <td>Home</td>\n",
       "      <td>-0.386541</td>\n",
       "      <td>-78.545227</td>\n",
       "    </tr>\n",
       "    <tr>\n",
       "      <th>1</th>\n",
       "      <td>Male</td>\n",
       "      <td>NaN</td>\n",
       "      <td>1.0</td>\n",
       "      <td>1.0</td>\n",
       "      <td>EN</td>\n",
       "      <td>2019-01-29 00:39:28</td>\n",
       "      <td>2019-01-29 00:39:27</td>\n",
       "      <td>002U0H9</td>\n",
       "      <td>0</td>\n",
       "      <td>Work</td>\n",
       "      <td>-1.654883</td>\n",
       "      <td>-78.395332</td>\n",
       "    </tr>\n",
       "    <tr>\n",
       "      <th>2</th>\n",
       "      <td>Male</td>\n",
       "      <td>NaN</td>\n",
       "      <td>1.0</td>\n",
       "      <td>1.0</td>\n",
       "      <td>EN</td>\n",
       "      <td>2019-05-14 20:36:32</td>\n",
       "      <td>2019-05-14 20:36:31</td>\n",
       "      <td>00ICGWM</td>\n",
       "      <td>0</td>\n",
       "      <td>NaN</td>\n",
       "      <td>-0.123915</td>\n",
       "      <td>-0.001945</td>\n",
       "    </tr>\n",
       "    <tr>\n",
       "      <th>3</th>\n",
       "      <td>Male</td>\n",
       "      <td>NaN</td>\n",
       "      <td>1.0</td>\n",
       "      <td>1.0</td>\n",
       "      <td>EN</td>\n",
       "      <td>2019-05-14 20:36:32</td>\n",
       "      <td>2019-05-14 20:36:31</td>\n",
       "      <td>00ICGWM</td>\n",
       "      <td>1</td>\n",
       "      <td>Home</td>\n",
       "      <td>-0.021965</td>\n",
       "      <td>0.021158</td>\n",
       "    </tr>\n",
       "    <tr>\n",
       "      <th>4</th>\n",
       "      <td>NaN</td>\n",
       "      <td>NaN</td>\n",
       "      <td>1.0</td>\n",
       "      <td>1.0</td>\n",
       "      <td>NaN</td>\n",
       "      <td>2020-02-14 15:51:28</td>\n",
       "      <td>2020-02-14 15:53:23</td>\n",
       "      <td>015LTZX</td>\n",
       "      <td>0</td>\n",
       "      <td>NaN</td>\n",
       "      <td>19.216488</td>\n",
       "      <td>3.001413</td>\n",
       "    </tr>\n",
       "  </tbody>\n",
       "</table>\n",
       "</div>"
      ],
      "text/plain": [
       "  gender  dob  status  verified language           created_at  \\\n",
       "0   Male  NaN     1.0       1.0       EN  2018-12-19 17:41:20   \n",
       "1   Male  NaN     1.0       1.0       EN  2019-01-29 00:39:28   \n",
       "2   Male  NaN     1.0       1.0       EN  2019-05-14 20:36:32   \n",
       "3   Male  NaN     1.0       1.0       EN  2019-05-14 20:36:32   \n",
       "4    NaN  NaN     1.0       1.0      NaN  2020-02-14 15:51:28   \n",
       "\n",
       "            updated_at customer_id  location_number location_type   latitude  \\\n",
       "0  2018-12-19 17:41:20     000IPH5                0          Home  -0.386541   \n",
       "1  2019-01-29 00:39:27     002U0H9                0          Work  -1.654883   \n",
       "2  2019-05-14 20:36:31     00ICGWM                0           NaN  -0.123915   \n",
       "3  2019-05-14 20:36:31     00ICGWM                1          Home  -0.021965   \n",
       "4  2020-02-14 15:53:23     015LTZX                0           NaN  19.216488   \n",
       "\n",
       "   longitude  \n",
       "0 -78.545227  \n",
       "1 -78.395332  \n",
       "2  -0.001945  \n",
       "3   0.021158  \n",
       "4   3.001413  "
      ]
     },
     "execution_count": 14,
     "metadata": {},
     "output_type": "execute_result"
    }
   ],
   "source": [
    "cust_loc.head()"
   ]
  },
  {
   "cell_type": "markdown",
   "metadata": {},
   "source": [
    "## Renaming some customer columns for clarity"
   ]
  },
  {
   "cell_type": "code",
   "execution_count": 15,
   "metadata": {},
   "outputs": [],
   "source": [
    "cust_loc=cust_loc.rename(columns={'latitude':'cust_latitude','longitude':'cust_longitude',\n",
    "                                  'location_type':'cust_location_type','location_number':'cust_location_number',\n",
    "                                  'created_at':'cust_created_at','updated_at':'cust_updated_at','status':'cust_status',\n",
    "                                  'verified':'cust_verified'})"
   ]
  },
  {
   "cell_type": "code",
   "execution_count": 16,
   "metadata": {},
   "outputs": [
    {
     "data": {
      "text/plain": [
       "array(['gender', 'dob', 'cust_status', 'cust_verified', 'language',\n",
       "       'cust_created_at', 'cust_updated_at', 'customer_id',\n",
       "       'cust_location_number', 'cust_location_type', 'cust_latitude',\n",
       "       'cust_longitude'], dtype=object)"
      ]
     },
     "execution_count": 16,
     "metadata": {},
     "output_type": "execute_result"
    }
   ],
   "source": [
    "cust_loc.columns.values"
   ]
  },
  {
   "cell_type": "markdown",
   "metadata": {},
   "source": [
    "## Lat and long"
   ]
  },
  {
   "cell_type": "code",
   "execution_count": 17,
   "metadata": {},
   "outputs": [
    {
     "name": "stdout",
     "output_type": "stream",
     "text": [
      "<class 'numpy.float64'>\n",
      "cust_latitude     3\n",
      "cust_longitude    3\n",
      "dtype: int64\n",
      "cust_latitude     0\n",
      "cust_longitude    0\n",
      "dtype: int64\n"
     ]
    },
    {
     "data": {
      "text/html": [
       "<div>\n",
       "<style scoped>\n",
       "    .dataframe tbody tr th:only-of-type {\n",
       "        vertical-align: middle;\n",
       "    }\n",
       "\n",
       "    .dataframe tbody tr th {\n",
       "        vertical-align: top;\n",
       "    }\n",
       "\n",
       "    .dataframe thead th {\n",
       "        text-align: right;\n",
       "    }\n",
       "</style>\n",
       "<table border=\"1\" class=\"dataframe\">\n",
       "  <thead>\n",
       "    <tr style=\"text-align: right;\">\n",
       "      <th></th>\n",
       "      <th>cust_latitude</th>\n",
       "      <th>cust_longitude</th>\n",
       "    </tr>\n",
       "  </thead>\n",
       "  <tbody>\n",
       "    <tr>\n",
       "      <th>0</th>\n",
       "      <td>-0.386541</td>\n",
       "      <td>-78.545227</td>\n",
       "    </tr>\n",
       "    <tr>\n",
       "      <th>1</th>\n",
       "      <td>-1.654883</td>\n",
       "      <td>-78.395332</td>\n",
       "    </tr>\n",
       "    <tr>\n",
       "      <th>2</th>\n",
       "      <td>-0.123915</td>\n",
       "      <td>-0.001945</td>\n",
       "    </tr>\n",
       "    <tr>\n",
       "      <th>3</th>\n",
       "      <td>-0.021965</td>\n",
       "      <td>0.021158</td>\n",
       "    </tr>\n",
       "    <tr>\n",
       "      <th>4</th>\n",
       "      <td>19.216488</td>\n",
       "      <td>3.001413</td>\n",
       "    </tr>\n",
       "    <tr>\n",
       "      <th>...</th>\n",
       "      <td>...</td>\n",
       "      <td>...</td>\n",
       "    </tr>\n",
       "    <tr>\n",
       "      <th>16715</th>\n",
       "      <td>-0.328834</td>\n",
       "      <td>0.660301</td>\n",
       "    </tr>\n",
       "    <tr>\n",
       "      <th>16716</th>\n",
       "      <td>-0.363342</td>\n",
       "      <td>0.688674</td>\n",
       "    </tr>\n",
       "    <tr>\n",
       "      <th>16717</th>\n",
       "      <td>-0.475803</td>\n",
       "      <td>0.082508</td>\n",
       "    </tr>\n",
       "    <tr>\n",
       "      <th>16718</th>\n",
       "      <td>-0.696428</td>\n",
       "      <td>0.215438</td>\n",
       "    </tr>\n",
       "    <tr>\n",
       "      <th>16719</th>\n",
       "      <td>2.042852</td>\n",
       "      <td>-78.832337</td>\n",
       "    </tr>\n",
       "  </tbody>\n",
       "</table>\n",
       "<p>16720 rows × 2 columns</p>\n",
       "</div>"
      ],
      "text/plain": [
       "       cust_latitude  cust_longitude\n",
       "0          -0.386541      -78.545227\n",
       "1          -1.654883      -78.395332\n",
       "2          -0.123915       -0.001945\n",
       "3          -0.021965        0.021158\n",
       "4          19.216488        3.001413\n",
       "...              ...             ...\n",
       "16715      -0.328834        0.660301\n",
       "16716      -0.363342        0.688674\n",
       "16717      -0.475803        0.082508\n",
       "16718      -0.696428        0.215438\n",
       "16719       2.042852      -78.832337\n",
       "\n",
       "[16720 rows x 2 columns]"
      ]
     },
     "execution_count": 17,
     "metadata": {},
     "output_type": "execute_result"
    }
   ],
   "source": [
    "print(type(cust_loc['cust_latitude'][0]))\n",
    "print(cust_loc[['cust_latitude', 'cust_longitude']].isnull().sum())\n",
    "cust_loc[['cust_latitude', 'cust_longitude']]=cust_loc[['cust_latitude', 'cust_longitude']].fillna(0)\n",
    "print(cust_loc[['cust_latitude', 'cust_longitude']].isnull().sum())\n",
    "cust_loc[[ 'cust_latitude', 'cust_longitude']]"
   ]
  },
  {
   "cell_type": "code",
   "execution_count": 18,
   "metadata": {},
   "outputs": [
    {
     "data": {
      "text/plain": [
       "<matplotlib.collections.PathCollection at 0x24258c7d508>"
      ]
     },
     "execution_count": 18,
     "metadata": {},
     "output_type": "execute_result"
    },
    {
     "data": {
      "image/png": "[encoded data removed]",
      "text/plain": [
       "<Figure size 432x288 with 2 Axes>"
      ]
     },
     "metadata": {
      "needs_background": "light"
     },
     "output_type": "display_data"
    }
   ],
   "source": [
    "#cluster lat and long\n",
    "kmeans=KMeans(n_clusters=5,init='k-means++')\n",
    "kmeans.fit(cust_loc[[ 'cust_latitude', 'cust_longitude']])\n",
    "cust_loc['loc_cluster_label'] = kmeans.fit_predict(cust_loc[[ 'cust_latitude', 'cust_longitude']])\n",
    "centers = kmeans.cluster_centers_ # Coordinates of cluster centers.\n",
    "labels = kmeans.predict(cust_loc[[ 'cust_latitude', 'cust_longitude']])\n",
    "# Full_data['cluster_label'].value_counts()\n",
    "cust_loc.plot.scatter(x = 'cust_latitude', y = 'cust_longitude', c=labels, s=50, cmap='viridis')\n",
    "plt.scatter(centers[:, 0], centers[:, 1], c='r', s=200, alpha=0.5)"
   ]
  },
  {
   "cell_type": "code",
   "execution_count": 19,
   "metadata": {},
   "outputs": [
    {
     "data": {
      "text/plain": [
       "0    10976\n",
       "1     5404\n",
       "3      310\n",
       "4       26\n",
       "2        4\n",
       "Name: loc_cluster_label, dtype: int64"
      ]
     },
     "execution_count": 19,
     "metadata": {},
     "output_type": "execute_result"
    }
   ],
   "source": [
    "cust_loc['loc_cluster_label'].value_counts()"
   ]
  },
  {
   "cell_type": "markdown",
   "metadata": {},
   "source": [
    "## Gender"
   ]
  },
  {
   "cell_type": "code",
   "execution_count": 20,
   "metadata": {},
   "outputs": [
    {
     "data": {
      "text/plain": [
       "array(['Male', nan, 'Female', 'male', 'Female  ', 'Female ', 'Male  '],\n",
       "      dtype=object)"
      ]
     },
     "execution_count": 20,
     "metadata": {},
     "output_type": "execute_result"
    }
   ],
   "source": [
    "cust_loc['gender'].unique()"
   ]
  },
  {
   "cell_type": "code",
   "execution_count": 21,
   "metadata": {},
   "outputs": [],
   "source": [
    "def gender(title):\n",
    "    if title=='Male' or title=='Male  ' or title=='male' :\n",
    "        return 'male'\n",
    "    elif title=='Female'  or title=='Female  '  or title=='Female   ' or title=='Female    ' or title=='Female ':\n",
    "        return 'female'\n",
    "    else:\n",
    "        return np.nan"
   ]
  },
  {
   "cell_type": "code",
   "execution_count": 22,
   "metadata": {},
   "outputs": [],
   "source": [
    "cust_loc['gender']=cust_loc['gender'].apply(gender)"
   ]
  },
  {
   "cell_type": "code",
   "execution_count": 23,
   "metadata": {},
   "outputs": [
    {
     "data": {
      "text/plain": [
       "array(['male', nan, 'female'], dtype=object)"
      ]
     },
     "execution_count": 23,
     "metadata": {},
     "output_type": "execute_result"
    }
   ],
   "source": [
    "cust_loc['gender'].unique()"
   ]
  },
  {
   "cell_type": "markdown",
   "metadata": {},
   "source": [
    "## Created at"
   ]
  },
  {
   "cell_type": "code",
   "execution_count": 24,
   "metadata": {},
   "outputs": [
    {
     "data": {
      "text/plain": [
       "0        2018-12-19 17:41:20\n",
       "1        2019-01-29 00:39:28\n",
       "2        2019-05-14 20:36:32\n",
       "3        2019-05-14 20:36:32\n",
       "4        2020-02-14 15:51:28\n",
       "                ...         \n",
       "16715                    NaN\n",
       "16716                    NaN\n",
       "16717                    NaN\n",
       "16718                    NaN\n",
       "16719                    NaN\n",
       "Name: cust_created_at, Length: 16720, dtype: object"
      ]
     },
     "execution_count": 24,
     "metadata": {},
     "output_type": "execute_result"
    }
   ],
   "source": [
    "cust_loc['cust_created_at']"
   ]
  },
  {
   "cell_type": "code",
   "execution_count": 25,
   "metadata": {},
   "outputs": [
    {
     "data": {
      "text/plain": [
       "403"
      ]
     },
     "execution_count": 25,
     "metadata": {},
     "output_type": "execute_result"
    }
   ],
   "source": [
    "cust_loc['cust_created_at'].isnull().sum()"
   ]
  },
  {
   "cell_type": "code",
   "execution_count": 26,
   "metadata": {},
   "outputs": [],
   "source": [
    "cust_loc['Date_cust_created_at'] = cust_loc['cust_created_at'].str.split(' ').str[0]\n"
   ]
  },
  {
   "cell_type": "code",
   "execution_count": 27,
   "metadata": {},
   "outputs": [
    {
     "data": {
      "text/plain": [
       "0        2018-12-19\n",
       "1        2019-01-29\n",
       "2        2019-05-14\n",
       "3        2019-05-14\n",
       "4        2020-02-14\n",
       "            ...    \n",
       "16715           NaN\n",
       "16716           NaN\n",
       "16717           NaN\n",
       "16718           NaN\n",
       "16719           NaN\n",
       "Name: Date_cust_created_at, Length: 16720, dtype: object"
      ]
     },
     "execution_count": 27,
     "metadata": {},
     "output_type": "execute_result"
    }
   ],
   "source": [
    "cust_loc['Date_cust_created_at']"
   ]
  },
  {
   "cell_type": "code",
   "execution_count": 28,
   "metadata": {},
   "outputs": [],
   "source": [
    "cust_loc['Date_cust_created_at'] = pd.to_datetime(cust_loc['Date_cust_created_at'], format='%Y-%m-%d')"
   ]
  },
  {
   "cell_type": "code",
   "execution_count": 29,
   "metadata": {},
   "outputs": [
    {
     "name": "stdout",
     "output_type": "stream",
     "text": [
      "<class 'pandas._libs.tslibs.timestamps.Timestamp'>\n"
     ]
    },
    {
     "data": {
      "text/plain": [
       "0       2018-12-19\n",
       "1       2019-01-29\n",
       "2       2019-05-14\n",
       "3       2019-05-14\n",
       "4       2020-02-14\n",
       "           ...    \n",
       "16715          NaT\n",
       "16716          NaT\n",
       "16717          NaT\n",
       "16718          NaT\n",
       "16719          NaT\n",
       "Name: Date_cust_created_at, Length: 16720, dtype: datetime64[ns]"
      ]
     },
     "execution_count": 29,
     "metadata": {},
     "output_type": "execute_result"
    }
   ],
   "source": [
    "print(type(cust_loc['Date_cust_created_at'][0]))\n",
    "cust_loc['Date_cust_created_at']"
   ]
  },
  {
   "cell_type": "code",
   "execution_count": 30,
   "metadata": {},
   "outputs": [
    {
     "name": "stdout",
     "output_type": "stream",
     "text": [
      "2020-07-01 00:00:00\n",
      "<class 'pandas._libs.tslibs.timestamps.Timestamp'>\n",
      "560\n"
     ]
    }
   ],
   "source": [
    "Curr_date='2020-07-01'\n",
    "Curr_date=pd.to_datetime(Curr_date,format='%Y-%m-%d')\n",
    "print(Curr_date)\n",
    "print(type(Curr_date))\n",
    "print(abs(Curr_date-cust_loc['Date_cust_created_at'][0]).days)"
   ]
  },
  {
   "cell_type": "code",
   "execution_count": 31,
   "metadata": {},
   "outputs": [],
   "source": [
    "def days_between(day):\n",
    "    return (Curr_date-day).days"
   ]
  },
  {
   "cell_type": "code",
   "execution_count": 32,
   "metadata": {},
   "outputs": [],
   "source": [
    "cust_loc['Cust_created_days']=cust_loc['Date_cust_created_at'].apply(days_between)"
   ]
  },
  {
   "cell_type": "code",
   "execution_count": 33,
   "metadata": {},
   "outputs": [
    {
     "data": {
      "text/plain": [
       "403"
      ]
     },
     "execution_count": 33,
     "metadata": {},
     "output_type": "execute_result"
    }
   ],
   "source": [
    "cust_loc['Cust_created_days'].isnull().sum()"
   ]
  },
  {
   "cell_type": "code",
   "execution_count": 34,
   "metadata": {},
   "outputs": [],
   "source": [
    "cust_loc.drop(['language','cust_longitude','cust_latitude','cust_updated_at','Date_cust_created_at','cust_created_at'],axis=1,inplace=True)"
   ]
  },
  {
   "cell_type": "markdown",
   "metadata": {},
   "source": [
    "## One hot encoding"
   ]
  },
  {
   "cell_type": "code",
   "execution_count": 35,
   "metadata": {},
   "outputs": [
    {
     "data": {
      "text/html": [
       "<div>\n",
       "<style scoped>\n",
       "    .dataframe tbody tr th:only-of-type {\n",
       "        vertical-align: middle;\n",
       "    }\n",
       "\n",
       "    .dataframe tbody tr th {\n",
       "        vertical-align: top;\n",
       "    }\n",
       "\n",
       "    .dataframe thead th {\n",
       "        text-align: right;\n",
       "    }\n",
       "</style>\n",
       "<table border=\"1\" class=\"dataframe\">\n",
       "  <thead>\n",
       "    <tr style=\"text-align: right;\">\n",
       "      <th></th>\n",
       "      <th>dob</th>\n",
       "      <th>cust_status</th>\n",
       "      <th>cust_verified</th>\n",
       "      <th>customer_id</th>\n",
       "      <th>cust_location_number</th>\n",
       "      <th>Cust_created_days</th>\n",
       "      <th>cust_location_type_Home</th>\n",
       "      <th>cust_location_type_Other</th>\n",
       "      <th>cust_location_type_Work</th>\n",
       "      <th>gender_female</th>\n",
       "      <th>gender_male</th>\n",
       "      <th>cust_lan_long_0</th>\n",
       "      <th>cust_lan_long_1</th>\n",
       "      <th>cust_lan_long_2</th>\n",
       "      <th>cust_lan_long_3</th>\n",
       "      <th>cust_lan_long_4</th>\n",
       "    </tr>\n",
       "  </thead>\n",
       "  <tbody>\n",
       "    <tr>\n",
       "      <th>0</th>\n",
       "      <td>NaN</td>\n",
       "      <td>1.0</td>\n",
       "      <td>1.0</td>\n",
       "      <td>000IPH5</td>\n",
       "      <td>0</td>\n",
       "      <td>560.0</td>\n",
       "      <td>1</td>\n",
       "      <td>0</td>\n",
       "      <td>0</td>\n",
       "      <td>0</td>\n",
       "      <td>1</td>\n",
       "      <td>0</td>\n",
       "      <td>1</td>\n",
       "      <td>0</td>\n",
       "      <td>0</td>\n",
       "      <td>0</td>\n",
       "    </tr>\n",
       "    <tr>\n",
       "      <th>1</th>\n",
       "      <td>NaN</td>\n",
       "      <td>1.0</td>\n",
       "      <td>1.0</td>\n",
       "      <td>002U0H9</td>\n",
       "      <td>0</td>\n",
       "      <td>519.0</td>\n",
       "      <td>0</td>\n",
       "      <td>0</td>\n",
       "      <td>1</td>\n",
       "      <td>0</td>\n",
       "      <td>1</td>\n",
       "      <td>0</td>\n",
       "      <td>1</td>\n",
       "      <td>0</td>\n",
       "      <td>0</td>\n",
       "      <td>0</td>\n",
       "    </tr>\n",
       "    <tr>\n",
       "      <th>2</th>\n",
       "      <td>NaN</td>\n",
       "      <td>1.0</td>\n",
       "      <td>1.0</td>\n",
       "      <td>00ICGWM</td>\n",
       "      <td>0</td>\n",
       "      <td>414.0</td>\n",
       "      <td>0</td>\n",
       "      <td>0</td>\n",
       "      <td>0</td>\n",
       "      <td>0</td>\n",
       "      <td>1</td>\n",
       "      <td>1</td>\n",
       "      <td>0</td>\n",
       "      <td>0</td>\n",
       "      <td>0</td>\n",
       "      <td>0</td>\n",
       "    </tr>\n",
       "    <tr>\n",
       "      <th>3</th>\n",
       "      <td>NaN</td>\n",
       "      <td>1.0</td>\n",
       "      <td>1.0</td>\n",
       "      <td>00ICGWM</td>\n",
       "      <td>1</td>\n",
       "      <td>414.0</td>\n",
       "      <td>1</td>\n",
       "      <td>0</td>\n",
       "      <td>0</td>\n",
       "      <td>0</td>\n",
       "      <td>1</td>\n",
       "      <td>1</td>\n",
       "      <td>0</td>\n",
       "      <td>0</td>\n",
       "      <td>0</td>\n",
       "      <td>0</td>\n",
       "    </tr>\n",
       "    <tr>\n",
       "      <th>4</th>\n",
       "      <td>NaN</td>\n",
       "      <td>1.0</td>\n",
       "      <td>1.0</td>\n",
       "      <td>015LTZX</td>\n",
       "      <td>0</td>\n",
       "      <td>138.0</td>\n",
       "      <td>0</td>\n",
       "      <td>0</td>\n",
       "      <td>0</td>\n",
       "      <td>0</td>\n",
       "      <td>0</td>\n",
       "      <td>1</td>\n",
       "      <td>0</td>\n",
       "      <td>0</td>\n",
       "      <td>0</td>\n",
       "      <td>0</td>\n",
       "    </tr>\n",
       "  </tbody>\n",
       "</table>\n",
       "</div>"
      ],
      "text/plain": [
       "   dob  cust_status  cust_verified customer_id  cust_location_number  \\\n",
       "0  NaN          1.0            1.0     000IPH5                     0   \n",
       "1  NaN          1.0            1.0     002U0H9                     0   \n",
       "2  NaN          1.0            1.0     00ICGWM                     0   \n",
       "3  NaN          1.0            1.0     00ICGWM                     1   \n",
       "4  NaN          1.0            1.0     015LTZX                     0   \n",
       "\n",
       "   Cust_created_days  cust_location_type_Home  cust_location_type_Other  \\\n",
       "0              560.0                        1                         0   \n",
       "1              519.0                        0                         0   \n",
       "2              414.0                        0                         0   \n",
       "3              414.0                        1                         0   \n",
       "4              138.0                        0                         0   \n",
       "\n",
       "   cust_location_type_Work  gender_female  gender_male  cust_lan_long_0  \\\n",
       "0                        0              0            1                0   \n",
       "1                        1              0            1                0   \n",
       "2                        0              0            1                1   \n",
       "3                        0              0            1                1   \n",
       "4                        0              0            0                1   \n",
       "\n",
       "   cust_lan_long_1  cust_lan_long_2  cust_lan_long_3  cust_lan_long_4  \n",
       "0                1                0                0                0  \n",
       "1                1                0                0                0  \n",
       "2                0                0                0                0  \n",
       "3                0                0                0                0  \n",
       "4                0                0                0                0  "
      ]
     },
     "execution_count": 35,
     "metadata": {},
     "output_type": "execute_result"
    }
   ],
   "source": [
    "TrainDummy = pd.get_dummies(cust_loc['cust_location_type'], prefix = 'cust_location_type') \n",
    "genderDummy=pd.get_dummies(cust_loc['gender'],prefix='gender')\n",
    "locationDummy=pd.get_dummies(cust_loc['loc_cluster_label'],prefix='cust_lan_long')\n",
    "del cust_loc['cust_location_type']\n",
    "del cust_loc['gender']\n",
    "del cust_loc['loc_cluster_label']\n",
    "customer = pd.concat([cust_loc,TrainDummy,genderDummy,locationDummy], axis=1)\n",
    "customer.head()"
   ]
  },
  {
   "cell_type": "code",
   "execution_count": 36,
   "metadata": {},
   "outputs": [],
   "source": [
    "#convert to csv file\n",
    "customer.to_csv(\"test_customers_p1.csv\",index=False)"
   ]
  },
  {
   "cell_type": "code",
   "execution_count": null,
   "metadata": {},
   "outputs": [],
   "source": []
  },
  {
   "cell_type": "code",
   "execution_count": null,
   "metadata": {},
   "outputs": [],
   "source": []
  }
 ],
 "metadata": {
  "kernelspec": {
   "display_name": "Python 3",
   "language": "python",
   "name": "python3"
  },
  "language_info": {
   "codemirror_mode": {
    "name": "ipython",
    "version": 3
   },
   "file_extension": ".py",
   "mimetype": "text/x-python",
   "name": "python",
   "nbconvert_exporter": "python",
   "pygments_lexer": "ipython3",
   "version": "3.7.6"
  }
 },
 "nbformat": 4,
 "nbformat_minor": 4
}
